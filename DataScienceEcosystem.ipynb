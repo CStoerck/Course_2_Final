{
 "cells": [
  {
   "cell_type": "markdown",
   "id": "9900b288-3461-4ecb-b887-f50cd1121ccc",
   "metadata": {},
   "source": [
    "# Data Science Tools and Ecosystem"
   ]
  },
  {
   "cell_type": "markdown",
   "id": "6be0665c-daf3-44ab-ae3f-7f6340c6eb31",
   "metadata": {},
   "source": [
    "In this notebook, Data Science Tools and Ecosystem are summarized."
   ]
  },
  {
   "cell_type": "markdown",
   "id": "e1120252-9cd0-4d0b-811d-bdb45e1667cb",
   "metadata": {},
   "source": [
    "**Objectives:**\n",
    "- List examples of Open Source, Commercial, and Cloud-based tools used for data science\n",
    "- Identify the uses and benefits of Python, R, and SQL\n",
    "- List examples of the various scientific, visualization, machine learning, and deep learning libraries\n",
    "- Describe how to use notebooks in JupyterLab\n",
    "- Describe R capabilities and RStudio environment"
   ]
  },
  {
   "cell_type": "markdown",
   "id": "e5328daa-5cc1-412e-9bf1-fbf49443687e",
   "metadata": {},
   "source": [
    "Some of the popular languages that Data Scientists use are:\n",
    "- Python\n",
    "- R\n",
    "- SQL\n",
    "- Scala\n",
    "- Java\n",
    "- C++\n",
    "- Julia"
   ]
  },
  {
   "cell_type": "markdown",
   "id": "a2863fa7-5926-4fd7-86ab-8622f574252b",
   "metadata": {},
   "source": [
    "Some of the commonly used libraries used by Data Scientists include:\n",
    "1. Pandas\n",
    "2. Matplotlib\n",
    "3. Scikit-learn\n",
    "4. TensorFlow"
   ]
  },
  {
   "cell_type": "markdown",
   "id": "058dc500-0066-4b87-a870-ca302ffbdc05",
   "metadata": {},
   "source": [
    "| Data Science Tools |\n",
    "| ------------------ |\n",
    "| Jupyter Notebooks |\n",
    "| Jupyter Labs |\n",
    "| Apache Zeppelin |\n",
    "| R Studio |\n",
    "| Spyder |"
   ]
  },
  {
   "cell_type": "markdown",
   "id": "83466b0c-8bdb-461b-a2af-14309b53ba1c",
   "metadata": {
    "tags": []
   },
   "source": [
    "### Below are a few examples of evaluating arithmetic expressions in Python"
   ]
  },
  {
   "cell_type": "code",
   "execution_count": 2,
   "id": "21a43d61-c0c3-42bd-b4f7-f180866a62d5",
   "metadata": {
    "tags": []
   },
   "outputs": [
    {
     "data": {
      "text/plain": [
       "17"
      ]
     },
     "execution_count": 2,
     "metadata": {},
     "output_type": "execute_result"
    }
   ],
   "source": [
    "# This is a simple arithmetic expression to multiply then add integers\n",
    "(3*4)+5"
   ]
  },
  {
   "cell_type": "code",
   "execution_count": 7,
   "id": "1a942792-9d97-440b-a4c9-f266c72d265c",
   "metadata": {
    "tags": []
   },
   "outputs": [
    {
     "data": {
      "text/plain": [
       "3.3333333333333335"
      ]
     },
     "execution_count": 7,
     "metadata": {},
     "output_type": "execute_result"
    }
   ],
   "source": [
    "# This will convert 200 minutes to hours by dividing by 60.\n",
    "200/60"
   ]
  },
  {
   "cell_type": "markdown",
   "id": "c8953083-3fd1-48f0-a54d-a3f992c622e0",
   "metadata": {},
   "source": [
    "## Author\n",
    "Cody Stoerck"
   ]
  },
  {
   "cell_type": "code",
   "execution_count": null,
   "id": "470b994a-04d7-459e-9827-5e94e4ccd4a1",
   "metadata": {},
   "outputs": [],
   "source": []
  }
 ],
 "metadata": {
  "kernelspec": {
   "display_name": "Python",
   "language": "python",
   "name": "conda-env-python-py"
  },
  "language_info": {
   "codemirror_mode": {
    "name": "ipython",
    "version": 3
   },
   "file_extension": ".py",
   "mimetype": "text/x-python",
   "name": "python",
   "nbconvert_exporter": "python",
   "pygments_lexer": "ipython3",
   "version": "3.7.12"
  }
 },
 "nbformat": 4,
 "nbformat_minor": 5
}
